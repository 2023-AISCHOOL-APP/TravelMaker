{
 "cells": [
  {
   "cell_type": "code",
   "execution_count": 1,
   "id": "5292e770",
   "metadata": {},
   "outputs": [],
   "source": [
    "import pandas as pd\n",
    "import numpy as np"
   ]
  },
  {
   "cell_type": "code",
   "execution_count": 33,
   "id": "d958da38",
   "metadata": {},
   "outputs": [],
   "source": [
    "# 서울\n",
    "# 관광지 불러오기\n",
    "seoul = pd.read_csv('서울관광지.csv',encoding='cp949')\n",
    "# 불필요한 key값 \"Column1\" 삭제하기\n",
    "seoul = seoul.drop([\"Column1\"],axis=1)\n",
    "# None 값이 있는 행 삭제하기\n",
    "seoul = seoul.dropna()\n",
    "# 인덱스 번호 다시 지정 \n",
    "seoul.reset_index(drop=True, inplace=True)\n",
    "seoul.to_csv('서울.csv',encoding='EUC-KR')"
   ]
  },
  {
   "cell_type": "code",
   "execution_count": 34,
   "id": "963923eb",
   "metadata": {},
   "outputs": [],
   "source": [
    "# 인천\n",
    "# 관광지 불러오기\n",
    "inchon = pd.read_csv('인천관광지.csv',encoding='cp949')\n",
    "# 불필요한 key값 \"Column1\" 삭제하기\n",
    "inchon = inchon.drop([\"Column1\"],axis=1)\n",
    "# None 값이 있는 행 삭제하기\n",
    "inchon = inchon.dropna()\n",
    "# 인덱스 번호 다시 지정 \n",
    "inchon.reset_index(drop=True, inplace=True)\n",
    "inchon.to_csv('인천.csv',encoding='EUC-KR')"
   ]
  },
  {
   "cell_type": "code",
   "execution_count": 35,
   "id": "4d2048aa",
   "metadata": {},
   "outputs": [],
   "source": [
    "# 대전\n",
    "# 관광지 불러오기\n",
    "daejeon = pd.read_csv('대전관광지.csv',encoding='cp949')\n",
    "# 불필요한 key값 \"Column1\" 삭제하기\n",
    "daejeon = daejeon.drop([\"Column1\"],axis=1)\n",
    "# None 값이 있는 행 삭제하기\n",
    "daejeon = daejeon.dropna()\n",
    "# 인덱스 번호 다시 지정 \n",
    "daejeon.reset_index(drop=True, inplace=True)\n",
    "daejeon.to_csv('대전.csv',encoding='EUC-KR')"
   ]
  },
  {
   "cell_type": "code",
   "execution_count": 36,
   "id": "2896b8a0",
   "metadata": {},
   "outputs": [],
   "source": [
    "# 대구\n",
    "# 관광지 불러오기\n",
    "daegu = pd.read_csv('대구관광지.csv',encoding='cp949')\n",
    "# 불필요한 key값 \"Column1\" 삭제하기\n",
    "daegu = daegu.drop([\"Column1\"],axis=1)\n",
    "# None 값이 있는 행 삭제하기\n",
    "daegu = daegu.dropna()\n",
    "# 인덱스 번호 다시 지정 \n",
    "daegu.reset_index(drop=True, inplace=True)\n",
    "daegu.to_csv('대구.csv',encoding='EUC-KR')"
   ]
  },
  {
   "cell_type": "code",
   "execution_count": 37,
   "id": "5c0f3a60",
   "metadata": {},
   "outputs": [],
   "source": [
    "# 광주\n",
    "# 관광지 불러오기\n",
    "gwangju = pd.read_csv('광주관광지.csv',encoding='cp949')\n",
    "# 불필요한 key값 \"Column1\" 삭제하기\n",
    "gwangju = gwangju.drop([\"Column1\"],axis=1)\n",
    "# None 값이 있는 행 삭제하기\n",
    "gwangju = gwangju.dropna()\n",
    "# 인덱스 번호 다시 지정 \n",
    "gwangju.reset_index(drop=True, inplace=True)\n",
    "gwangju.to_csv('광주.csv',encoding='EUC-KR')"
   ]
  },
  {
   "cell_type": "code",
   "execution_count": 38,
   "id": "e2606f4a",
   "metadata": {},
   "outputs": [],
   "source": [
    "# 울산\n",
    "# 관광지 불러오기\n",
    "ulsan = pd.read_csv('울산관광지.csv',encoding='cp949')\n",
    "# 불필요한 key값 \"Column1\" 삭제하기\n",
    "ulsan = ulsan.drop([\"Column1\"],axis=1)\n",
    "# None 값이 있는 행 삭제하기\n",
    "ulsan = ulsan.dropna()\n",
    "# 인덱스 번호 다시 지정 \n",
    "ulsan.reset_index(drop=True, inplace=True)\n",
    "ulsan.to_csv('울산.csv',encoding='EUC-KR')"
   ]
  },
  {
   "cell_type": "code",
   "execution_count": 39,
   "id": "084ae426",
   "metadata": {},
   "outputs": [],
   "source": [
    "# 부산\n",
    "# 관광지 불러오기\n",
    "busan = pd.read_csv('부산관광지.csv',encoding='cp949')\n",
    "# 불필요한 key값 \"Column1\" 삭제하기\n",
    "busan = busan.drop([\"Column1\"],axis=1)\n",
    "# None 값이 있는 행 삭제하기\n",
    "busan = busan.dropna()\n",
    "# 인덱스 번호 다시 지정 \n",
    "busan.reset_index(drop=True, inplace=True)\n",
    "busan.to_csv('부산.csv',encoding='EUC-KR')"
   ]
  },
  {
   "cell_type": "code",
   "execution_count": 40,
   "id": "0ce194ca",
   "metadata": {},
   "outputs": [],
   "source": [
    "# 세종\n",
    "# 관광지 불러오기\n",
    "sejong = pd.read_csv('세종관광지.csv',encoding='cp949')\n",
    "# 불필요한 key값 \"Column1\" 삭제하기\n",
    "sejong = sejong.drop([\"Column1\"],axis=1)\n",
    "# None 값이 있는 행 삭제하기\n",
    "sejong = sejong.dropna()\n",
    "# 인덱스 번호 다시 지정 \n",
    "sejong.reset_index(drop=True, inplace=True)\n",
    "sejong.to_csv('세종.csv',encoding='EUC-KR')"
   ]
  },
  {
   "cell_type": "code",
   "execution_count": 41,
   "id": "66b2035b",
   "metadata": {},
   "outputs": [],
   "source": [
    "# 제주\n",
    "# 관광지 불러오기\n",
    "jeju = pd.read_csv('제주관광지.csv',encoding='cp949')\n",
    "# 불필요한 key값 \"Column1\" 삭제하기\n",
    "jeju = jeju.drop([\"Column1\"],axis=1)\n",
    "# None 값이 있는 행 삭제하기\n",
    "jeju = jeju.dropna()\n",
    "# 인덱스 번호 다시 지정 \n",
    "jeju.reset_index(drop=True, inplace=True)\n",
    "jeju.to_csv('제주.csv',encoding='EUC-KR')"
   ]
  },
  {
   "cell_type": "code",
   "execution_count": 43,
   "id": "d395cd33",
   "metadata": {},
   "outputs": [],
   "source": [
    "# 경기도\n",
    "# 관광지 불러오기\n",
    "gyeonggi = pd.read_csv('경기도관광지.csv',encoding='cp949')\n",
    "# 불필요한 key값 \"Column1\" 삭제하기\n",
    "gyeonggi = gyeonggi.drop([\"Column1\"],axis=1)\n",
    "# None 값이 있는 행 삭제하기\n",
    "gyeonggi = gyeonggi.dropna()\n",
    "# 인덱스 번호 다시 지정 \n",
    "gyeonggi.reset_index(drop=True, inplace=True)\n",
    "gyeonggi.to_csv('경기.csv',encoding='EUC-KR')"
   ]
  },
  {
   "cell_type": "code",
   "execution_count": 44,
   "id": "ac3cb776",
   "metadata": {},
   "outputs": [],
   "source": [
    "# 강원\n",
    "# 관광지 불러오기\n",
    "gangwon = pd.read_csv('강원관광지.csv',encoding='cp949')\n",
    "# 불필요한 key값 \"Column1\" 삭제하기\n",
    "gangwon = gangwon.drop([\"Column1\"],axis=1)\n",
    "# None 값이 있는 행 삭제하기\n",
    "gangwon = gangwon.dropna()\n",
    "# 인덱스 번호 다시 지정 \n",
    "gangwon.reset_index(drop=True, inplace=True)\n",
    "gangwon.to_csv('강원.csv',encoding='EUC-KR')"
   ]
  },
  {
   "cell_type": "code",
   "execution_count": 45,
   "id": "54447557",
   "metadata": {},
   "outputs": [],
   "source": [
    "# 충북\n",
    "# 관광지 불러오기\n",
    "chungbuk = pd.read_csv('충북관광지.csv',encoding='cp949')\n",
    "# 불필요한 key값 \"Column1\" 삭제하기\n",
    "chungbuk = chungbuk.drop([\"Column1\"],axis=1)\n",
    "# None 값이 있는 행 삭제하기\n",
    "chungbuk = chungbuk.dropna()\n",
    "# 인덱스 번호 다시 지정 \n",
    "chungbuk.reset_index(drop=True, inplace=True)\n",
    "chungbuk.to_csv('충북.csv',encoding='EUC-KR')"
   ]
  },
  {
   "cell_type": "code",
   "execution_count": 46,
   "id": "44372526",
   "metadata": {},
   "outputs": [],
   "source": [
    "# 충남\n",
    "# 관광지 불러오기\n",
    "chungnam = pd.read_csv('충남관광지.csv',encoding='cp949')\n",
    "# 불필요한 key값 \"Column1\" 삭제하기\n",
    "chungnam = chungnam.drop([\"Column1\"],axis=1)\n",
    "# None 값이 있는 행 삭제하기\n",
    "chungnam = chungnam.dropna()\n",
    "# 인덱스 번호 다시 지정 \n",
    "chungnam.reset_index(drop=True, inplace=True)\n",
    "chungnam.to_csv('충남.csv',encoding='EUC-KR')"
   ]
  },
  {
   "cell_type": "code",
   "execution_count": 48,
   "id": "291c273d",
   "metadata": {},
   "outputs": [],
   "source": [
    "# 경북\n",
    "# 관광지 불러오기\n",
    "gyeongbuk = pd.read_csv('경북관광지.csv',encoding='cp949')\n",
    "# 불필요한 key값 \"Column1\" 삭제하기\n",
    "gyeongbuk = gyeongbuk.drop([\"Column1\"],axis=1)\n",
    "# None 값이 있는 행 삭제하기\n",
    "gyeongbuk = gyeongbuk.dropna()\n",
    "# 인덱스 번호 다시 지정 \n",
    "gyeongbuk.reset_index(drop=True, inplace=True)\n",
    "gyeongbuk.to_csv('경북.csv',encoding='EUC-KR')"
   ]
  },
  {
   "cell_type": "code",
   "execution_count": 49,
   "id": "c08f9a3b",
   "metadata": {},
   "outputs": [],
   "source": [
    "# 경남\n",
    "# 관광지 불러오기\n",
    "gyeongnam = pd.read_csv('경남관광지.csv',encoding='cp949')\n",
    "# 불필요한 key값 \"Column1\" 삭제하기\n",
    "gyeongnam = gyeongnam.drop([\"Column1\"],axis=1)\n",
    "# None 값이 있는 행 삭제하기\n",
    "gyeongnam = gyeongnam.dropna()\n",
    "# 인덱스 번호 다시 지정 \n",
    "gyeongnam.reset_index(drop=True, inplace=True)\n",
    "gyeongnam.to_csv('경남.csv',encoding='EUC-KR')"
   ]
  },
  {
   "cell_type": "code",
   "execution_count": 50,
   "id": "b55ec667",
   "metadata": {},
   "outputs": [],
   "source": [
    "# 전북\n",
    "# 관광지 불러오기\n",
    "jeonbuk = pd.read_csv('전북관광지.csv',encoding='cp949')\n",
    "# 불필요한 key값 \"Column1\" 삭제하기\n",
    "jeonbuk = jeonbuk.drop([\"Column1\"],axis=1)\n",
    "# None 값이 있는 행 삭제하기\n",
    "jeonbuk = jeonbuk.dropna()\n",
    "# 인덱스 번호 다시 지정 \n",
    "jeonbuk.reset_index(drop=True, inplace=True)\n",
    "jeonbuk.to_csv('전북.csv',encoding='EUC-KR')"
   ]
  },
  {
   "cell_type": "code",
   "execution_count": 51,
   "id": "0207813c",
   "metadata": {},
   "outputs": [],
   "source": [
    "# 전남\n",
    "# 관광지 불러오기\n",
    "jeonnam = pd.read_csv('전남관광지.csv',encoding='cp949')\n",
    "# 불필요한 key값 \"Column1\" 삭제하기\n",
    "jeonnam = jeonnam.drop([\"Column1\"],axis=1)\n",
    "# None 값이 있는 행 삭제하기\n",
    "jeonnam = jeonnam.dropna()\n",
    "# 인덱스 번호 다시 지정 \n",
    "jeonnam.reset_index(drop=True, inplace=True)\n",
    "jeonnam.to_csv('전남.csv',encoding='EUC-KR')"
   ]
  },
  {
   "cell_type": "code",
   "execution_count": null,
   "id": "19b4f5c4",
   "metadata": {},
   "outputs": [],
   "source": []
  },
  {
   "cell_type": "code",
   "execution_count": null,
   "id": "be146790",
   "metadata": {},
   "outputs": [],
   "source": []
  },
  {
   "cell_type": "code",
   "execution_count": null,
   "id": "4052d23e",
   "metadata": {},
   "outputs": [],
   "source": []
  }
 ],
 "metadata": {
  "kernelspec": {
   "display_name": "Python 3 (ipykernel)",
   "language": "python",
   "name": "python3"
  },
  "language_info": {
   "codemirror_mode": {
    "name": "ipython",
    "version": 3
   },
   "file_extension": ".py",
   "mimetype": "text/x-python",
   "name": "python",
   "nbconvert_exporter": "python",
   "pygments_lexer": "ipython3",
   "version": "3.10.9"
  }
 },
 "nbformat": 4,
 "nbformat_minor": 5
}
