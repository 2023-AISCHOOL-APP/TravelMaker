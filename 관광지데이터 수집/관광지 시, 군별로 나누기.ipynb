{
 "cells": [
  {
   "cell_type": "code",
   "execution_count": 1,
   "id": "843a9b94",
   "metadata": {},
   "outputs": [],
   "source": [
    "import pandas as pd\n",
    "import numpy as np"
   ]
  },
  {
   "cell_type": "markdown",
   "id": "30d05a39",
   "metadata": {},
   "source": [
    "## 경북"
   ]
  },
  {
   "cell_type": "code",
   "execution_count": 3,
   "id": "879d1280",
   "metadata": {},
   "outputs": [
    {
     "data": {
      "text/plain": [
       "810"
      ]
     },
     "execution_count": 3,
     "metadata": {},
     "output_type": "execute_result"
    }
   ],
   "source": [
    "# 관광지 리스트 불러오기\n",
    "tourList = pd.read_csv('경북.csv', encoding='EUC-KR')\n",
    "# 주소를 \" \"(띄워쓰기) 기준으로 나눠서 리스트에서 시,군에 해당하는 1번 가져와 'addr2'컬럼으로 데이터프레임에 추가\n",
    "tourList['addr2'] = tourList['addr1'].str.split(\" \", expand=True)[1]\n",
    "# 'addr2'컬럼의 value값 종류 확인하기(시,군 종류)\n",
    "addr2List = tourList['addr2'].value_counts().index\n",
    "tourList['addr2'].value_counts()        \n",
    "len(tourList)"
   ]
  },
  {
   "cell_type": "code",
   "execution_count": 3,
   "id": "792f16bc",
   "metadata": {
    "scrolled": true
   },
   "outputs": [
    {
     "data": {
      "text/html": [
       "<div>\n",
       "<style scoped>\n",
       "    .dataframe tbody tr th:only-of-type {\n",
       "        vertical-align: middle;\n",
       "    }\n",
       "\n",
       "    .dataframe tbody tr th {\n",
       "        vertical-align: top;\n",
       "    }\n",
       "\n",
       "    .dataframe thead th {\n",
       "        text-align: right;\n",
       "    }\n",
       "</style>\n",
       "<table border=\"1\" class=\"dataframe\">\n",
       "  <thead>\n",
       "    <tr style=\"text-align: right;\">\n",
       "      <th></th>\n",
       "      <th>Unnamed: 0</th>\n",
       "      <th>title</th>\n",
       "      <th>addr1</th>\n",
       "      <th>mapx</th>\n",
       "      <th>mapy</th>\n",
       "      <th>firstimage</th>\n",
       "      <th>overview</th>\n",
       "      <th>addr2</th>\n",
       "    </tr>\n",
       "  </thead>\n",
       "  <tbody>\n",
       "    <tr>\n",
       "      <th>718</th>\n",
       "      <td>718</td>\n",
       "      <td>칠포해오름전망대</td>\n",
       "      <td>포항시 북구 흥해읍 칠포리 산2-2</td>\n",
       "      <td>129.39737</td>\n",
       "      <td>36.147584</td>\n",
       "      <td>http://tong.visitkorea.or.kr/cms/resource/66/2...</td>\n",
       "      <td>칠포해오름전망대는 경북 포항시 북구 흥해읍에 자리 잡고 있다.해오름이란 포항, 울산...</td>\n",
       "      <td>북구</td>\n",
       "    </tr>\n",
       "  </tbody>\n",
       "</table>\n",
       "</div>"
      ],
      "text/plain": [
       "     Unnamed: 0     title                addr1       mapx       mapy  \\\n",
       "718         718  칠포해오름전망대  포항시 북구 흥해읍 칠포리 산2-2  129.39737  36.147584   \n",
       "\n",
       "                                            firstimage  \\\n",
       "718  http://tong.visitkorea.or.kr/cms/resource/66/2...   \n",
       "\n",
       "                                              overview addr2  \n",
       "718  칠포해오름전망대는 경북 포항시 북구 흥해읍에 자리 잡고 있다.해오름이란 포항, 울산...    북구  "
      ]
     },
     "execution_count": 3,
     "metadata": {},
     "output_type": "execute_result"
    }
   ],
   "source": [
    "# addr2 의 컬럼에서 시작문자가 '북구'인 행 추출\n",
    "tourList[tourList['addr2'].str.startswith(\"북구\")]"
   ]
  },
  {
   "cell_type": "code",
   "execution_count": 4,
   "id": "311d8d09",
   "metadata": {},
   "outputs": [],
   "source": [
    "# addr2 컬럼에 '산내면'을 '경주시'로 변경\n",
    "tourList=tourList.replace({'addr2':'산내면'},'경주시')\n",
    "tourList=tourList.replace({'addr2':'북구'},'포항시')"
   ]
  },
  {
   "cell_type": "code",
   "execution_count": 5,
   "id": "358a1f3b",
   "metadata": {},
   "outputs": [
    {
     "data": {
      "text/plain": [
       "Index(['경주시', '포항시', '안동시', '청송군', '울진군', '구미시', '영주시', '상주시', '울릉군', '영덕군',\n",
       "       '봉화군', '청도군', '문경시', '의성군', '칠곡군', '예천군', '고령군', '영천시', '경산시', '성주군',\n",
       "       '김천시', '영양군'],\n",
       "      dtype='object')"
      ]
     },
     "execution_count": 5,
     "metadata": {},
     "output_type": "execute_result"
    }
   ],
   "source": [
    "addr2List = tourList['addr2'].value_counts().index\n",
    "addr2List"
   ]
  },
  {
   "cell_type": "code",
   "execution_count": 6,
   "id": "6d4bd7fc",
   "metadata": {},
   "outputs": [],
   "source": [
    "tourListN = []\n",
    "for i in range(len(addr2List)):\n",
    "    tourListN.append(tourList[tourList['addr2'].str.startswith(addr2List[i])])\n",
    "    tourListN[i] = tourListN[i].drop([\"Unnamed: 0\"],axis=1)\n",
    "    tourListN[i] = tourListN[i].reset_index(drop=True)\n",
    "    tourListN[i].to_csv(f'경북{addr2List[i]}.csv',encoding='utf-8')    \n"
   ]
  },
  {
   "cell_type": "markdown",
   "id": "8cdb15ad",
   "metadata": {},
   "source": [
    "## 경남"
   ]
  },
  {
   "cell_type": "code",
   "execution_count": 4,
   "id": "1dd1bab0",
   "metadata": {},
   "outputs": [
    {
     "data": {
      "text/plain": [
       "881"
      ]
     },
     "execution_count": 4,
     "metadata": {},
     "output_type": "execute_result"
    }
   ],
   "source": [
    "# 관광지 리스트 불러오기\n",
    "tourList = pd.read_csv('경남.csv', encoding='EUC-KR')\n",
    "# 주소를 \" \"(띄워쓰기) 기준으로 나눠서 리스트에서 시,군에 해당하는 1번 가져와 'addr2'컬럼으로 데이터프레임에 추가\n",
    "tourList['addr2'] = tourList['addr1'].str.split(\" \", expand=True)[1]\n",
    "# 'addr2'컬럼의 value값 종류 확인하기(시,군 종류)\n",
    "addr2List = tourList['addr2'].value_counts().index\n",
    "tourList['addr2'].value_counts()        \n",
    "len(tourList)"
   ]
  },
  {
   "cell_type": "code",
   "execution_count": 8,
   "id": "1d6a27a6",
   "metadata": {},
   "outputs": [
    {
     "data": {
      "text/html": [
       "<div>\n",
       "<style scoped>\n",
       "    .dataframe tbody tr th:only-of-type {\n",
       "        vertical-align: middle;\n",
       "    }\n",
       "\n",
       "    .dataframe tbody tr th {\n",
       "        vertical-align: top;\n",
       "    }\n",
       "\n",
       "    .dataframe thead th {\n",
       "        text-align: right;\n",
       "    }\n",
       "</style>\n",
       "<table border=\"1\" class=\"dataframe\">\n",
       "  <thead>\n",
       "    <tr style=\"text-align: right;\">\n",
       "      <th></th>\n",
       "      <th>Unnamed: 0</th>\n",
       "      <th>title</th>\n",
       "      <th>addr1</th>\n",
       "      <th>mapx</th>\n",
       "      <th>mapy</th>\n",
       "      <th>firstimage</th>\n",
       "      <th>overview</th>\n",
       "      <th>addr2</th>\n",
       "    </tr>\n",
       "  </thead>\n",
       "  <tbody>\n",
       "    <tr>\n",
       "      <th>20</th>\n",
       "      <td>20</td>\n",
       "      <td>감악산(거창)</td>\n",
       "      <td>거창군 남상면 무촌리 산295번지 일원(신원면 구사리 산12-1 인근)</td>\n",
       "      <td>127.929557</td>\n",
       "      <td>35.596422</td>\n",
       "      <td>http://tong.visitkorea.or.kr/cms/resource/05/2...</td>\n",
       "      <td>* 거룩한 산이라는 뜻의 감악산 *\\n감악산(952m)은 남상면 무촌리 신원면 과정...</td>\n",
       "      <td>남상면</td>\n",
       "    </tr>\n",
       "  </tbody>\n",
       "</table>\n",
       "</div>"
      ],
      "text/plain": [
       "    Unnamed: 0    title                                    addr1        mapx  \\\n",
       "20          20  감악산(거창)  거창군 남상면 무촌리 산295번지 일원(신원면 구사리 산12-1 인근)  127.929557   \n",
       "\n",
       "         mapy                                         firstimage  \\\n",
       "20  35.596422  http://tong.visitkorea.or.kr/cms/resource/05/2...   \n",
       "\n",
       "                                             overview addr2  \n",
       "20  * 거룩한 산이라는 뜻의 감악산 *\\n감악산(952m)은 남상면 무촌리 신원면 과정...   남상면  "
      ]
     },
     "execution_count": 8,
     "metadata": {},
     "output_type": "execute_result"
    }
   ],
   "source": [
    "tourList[tourList['addr2'].str.startswith(\"남상면\")]"
   ]
  },
  {
   "cell_type": "code",
   "execution_count": 9,
   "id": "41a95308",
   "metadata": {},
   "outputs": [],
   "source": [
    "tourList=tourList.replace({'addr2':'남상면'},'거창군')"
   ]
  },
  {
   "cell_type": "code",
   "execution_count": 10,
   "id": "bee1147b",
   "metadata": {},
   "outputs": [
    {
     "data": {
      "text/plain": [
       "Index(['거제시', '창원시', '하동군', '남해군', '통영시', '밀양시', '산청군', '사천시', '함양군', '김해시',\n",
       "       '진주시', '양산시', '거창군', '합천군', '함안군', '고성군', '창녕군', '의령군'],\n",
       "      dtype='object')"
      ]
     },
     "execution_count": 10,
     "metadata": {},
     "output_type": "execute_result"
    }
   ],
   "source": [
    "addr2List = tourList['addr2'].value_counts().index\n",
    "addr2List"
   ]
  },
  {
   "cell_type": "code",
   "execution_count": 11,
   "id": "58327496",
   "metadata": {},
   "outputs": [],
   "source": [
    "tourListN = []\n",
    "for i in range(len(addr2List)):\n",
    "    tourListN.append(tourList[tourList['addr2'].str.startswith(addr2List[i])])\n",
    "    tourListN[i] = tourListN[i].drop([\"Unnamed: 0\"],axis=1)\n",
    "    tourListN[i] = tourListN[i].reset_index(drop=True)\n",
    "    tourListN[i].to_csv(f'경남{addr2List[i]}.csv',encoding='utf-8')  "
   ]
  },
  {
   "cell_type": "markdown",
   "id": "9d77fc76",
   "metadata": {},
   "source": [
    "## 경기도"
   ]
  },
  {
   "cell_type": "code",
   "execution_count": 5,
   "id": "41ece7bd",
   "metadata": {},
   "outputs": [
    {
     "data": {
      "text/plain": [
       "1123"
      ]
     },
     "execution_count": 5,
     "metadata": {},
     "output_type": "execute_result"
    }
   ],
   "source": [
    "# 관광지 리스트 불러오기\n",
    "tourList = pd.read_csv('경기.csv', encoding='EUC-KR')\n",
    "# 주소를 \" \"(띄워쓰기) 기준으로 나눠서 리스트에서 시,군에 해당하는 1번 가져와 'addr2'컬럼으로 데이터프레임에 추가\n",
    "tourList['addr2'] = tourList['addr1'].str.split(\" \", expand=True)[1]\n",
    "# 'addr2'컬럼의 value값 종류 확인하기(시,군 종류)\n",
    "addr2List = tourList['addr2'].value_counts().index\n",
    "tourList['addr2'].value_counts()        \n",
    "len(tourList)"
   ]
  },
  {
   "cell_type": "code",
   "execution_count": 13,
   "id": "26072fe2",
   "metadata": {},
   "outputs": [
    {
     "data": {
      "text/html": [
       "<div>\n",
       "<style scoped>\n",
       "    .dataframe tbody tr th:only-of-type {\n",
       "        vertical-align: middle;\n",
       "    }\n",
       "\n",
       "    .dataframe tbody tr th {\n",
       "        vertical-align: top;\n",
       "    }\n",
       "\n",
       "    .dataframe thead th {\n",
       "        text-align: right;\n",
       "    }\n",
       "</style>\n",
       "<table border=\"1\" class=\"dataframe\">\n",
       "  <thead>\n",
       "    <tr style=\"text-align: right;\">\n",
       "      <th></th>\n",
       "      <th>Unnamed: 0</th>\n",
       "      <th>title</th>\n",
       "      <th>addr1</th>\n",
       "      <th>mapx</th>\n",
       "      <th>mapy</th>\n",
       "      <th>firstimage</th>\n",
       "      <th>overview</th>\n",
       "      <th>addr2</th>\n",
       "    </tr>\n",
       "  </thead>\n",
       "  <tbody>\n",
       "    <tr>\n",
       "      <th>550</th>\n",
       "      <td>550</td>\n",
       "      <td>숙지공원</td>\n",
       "      <td>수원시 팔달구 화서2동 264</td>\n",
       "      <td>126.997074</td>\n",
       "      <td>37.284504</td>\n",
       "      <td>http://tong.visitkorea.or.kr/cms/resource/25/2...</td>\n",
       "      <td>수원시 팔달구 화서동 숙지산에 조성된 공원으로 면적은 약 23,000㎡이다. 200...</td>\n",
       "      <td>팔달구</td>\n",
       "    </tr>\n",
       "  </tbody>\n",
       "</table>\n",
       "</div>"
      ],
      "text/plain": [
       "     Unnamed: 0 title             addr1        mapx       mapy  \\\n",
       "550         550  숙지공원  수원시 팔달구 화서2동 264  126.997074  37.284504   \n",
       "\n",
       "                                            firstimage  \\\n",
       "550  http://tong.visitkorea.or.kr/cms/resource/25/2...   \n",
       "\n",
       "                                              overview addr2  \n",
       "550  수원시 팔달구 화서동 숙지산에 조성된 공원으로 면적은 약 23,000㎡이다. 200...   팔달구  "
      ]
     },
     "execution_count": 13,
     "metadata": {},
     "output_type": "execute_result"
    }
   ],
   "source": [
    "tourList[tourList['addr2'].str.startswith(\"장안구\")]  # 수원시\n",
    "tourList[tourList['addr2'].str.startswith(\"팔달구\")]  # 수원시"
   ]
  },
  {
   "cell_type": "code",
   "execution_count": 14,
   "id": "f1f60666",
   "metadata": {},
   "outputs": [],
   "source": [
    "tourList=tourList.replace({'addr2':'장안구'},'수원시')\n",
    "tourList=tourList.replace({'addr2':'팔달구'},'수원시')"
   ]
  },
  {
   "cell_type": "code",
   "execution_count": 15,
   "id": "bc8ae8ed",
   "metadata": {},
   "outputs": [
    {
     "data": {
      "text/plain": [
       "Index(['화성시', '파주시', '양평군', '안성시', '수원시', '용인시', '포천시', '가평군', '고양시', '남양주시',\n",
       "       '안산시', '연천군', '성남시', '평택시', '광주시', '이천시', '시흥시', '여주시', '양주시', '김포시',\n",
       "       '안양시', '부천시', '하남시', '오산시', '과천시', '구리시', '의정부시', '군포시', '의왕시', '광명시',\n",
       "       '동두천시'],\n",
       "      dtype='object')"
      ]
     },
     "execution_count": 15,
     "metadata": {},
     "output_type": "execute_result"
    }
   ],
   "source": [
    "addr2List = tourList['addr2'].value_counts().index\n",
    "addr2List"
   ]
  },
  {
   "cell_type": "code",
   "execution_count": 16,
   "id": "8d0978e3",
   "metadata": {},
   "outputs": [],
   "source": [
    "tourListN = []\n",
    "for i in range(len(addr2List)):\n",
    "    tourListN.append(tourList[tourList['addr2'].str.startswith(addr2List[i])])\n",
    "    tourListN[i] = tourListN[i].drop([\"Unnamed: 0\"],axis=1)\n",
    "    tourListN[i] = tourListN[i].reset_index(drop=True)\n",
    "    tourListN[i].to_csv(f'경기도{addr2List[i]}.csv',encoding='utf-8')  "
   ]
  },
  {
   "cell_type": "markdown",
   "id": "1cde13a8",
   "metadata": {},
   "source": [
    "## 강원도"
   ]
  },
  {
   "cell_type": "code",
   "execution_count": 6,
   "id": "65ef30cd",
   "metadata": {},
   "outputs": [
    {
     "data": {
      "text/plain": [
       "929"
      ]
     },
     "execution_count": 6,
     "metadata": {},
     "output_type": "execute_result"
    }
   ],
   "source": [
    "# 관광지 리스트 불러오기\n",
    "tourList = pd.read_csv('강원.csv', encoding='EUC-KR')\n",
    "# 주소를 \" \"(띄워쓰기) 기준으로 나눠서 리스트에서 시,군에 해당하는 1번 가져와 'addr2'컬럼으로 데이터프레임에 추가\n",
    "tourList['addr2'] = tourList['addr1'].str.split(\" \", expand=True)[1]\n",
    "# 'addr2'컬럼의 value값 종류 확인하기(시,군 종류)\n",
    "addr2List = tourList['addr2'].value_counts().index\n",
    "tourList['addr2'].value_counts()        \n",
    "len(tourList)"
   ]
  },
  {
   "cell_type": "code",
   "execution_count": 18,
   "id": "3c902e08",
   "metadata": {},
   "outputs": [],
   "source": [
    "tourList=tourList.dropna()"
   ]
  },
  {
   "cell_type": "code",
   "execution_count": 19,
   "id": "0906acc5",
   "metadata": {},
   "outputs": [
    {
     "name": "stdout",
     "output_type": "stream",
     "text": [
      "<class 'pandas.core.frame.DataFrame'>\n",
      "Int64Index: 928 entries, 0 to 928\n",
      "Data columns (total 8 columns):\n",
      " #   Column      Non-Null Count  Dtype  \n",
      "---  ------      --------------  -----  \n",
      " 0   Unnamed: 0  928 non-null    int64  \n",
      " 1   title       928 non-null    object \n",
      " 2   addr1       928 non-null    object \n",
      " 3   mapx        928 non-null    float64\n",
      " 4   mapy        928 non-null    float64\n",
      " 5   firstimage  928 non-null    object \n",
      " 6   overview    928 non-null    object \n",
      " 7   addr2       928 non-null    object \n",
      "dtypes: float64(2), int64(1), object(5)\n",
      "memory usage: 65.2+ KB\n"
     ]
    }
   ],
   "source": [
    "tourList.info()"
   ]
  },
  {
   "cell_type": "code",
   "execution_count": 20,
   "id": "0cb0b311",
   "metadata": {},
   "outputs": [],
   "source": [
    "tourListN = []\n",
    "for i in range(len(addr2List)):\n",
    "    tourListN.append(tourList[tourList['addr2'].str.startswith(addr2List[i])])\n",
    "    tourListN[i] = tourListN[i].drop([\"Unnamed: 0\"],axis=1)\n",
    "    tourListN[i] = tourListN[i].reset_index(drop=True)\n",
    "    tourListN[i].to_csv(f'강원도{addr2List[i]}.csv',encoding='utf-8')  "
   ]
  },
  {
   "cell_type": "markdown",
   "id": "a71f0a17",
   "metadata": {},
   "source": [
    "## 충북"
   ]
  },
  {
   "cell_type": "code",
   "execution_count": 7,
   "id": "f4a1d1d0",
   "metadata": {},
   "outputs": [
    {
     "data": {
      "text/plain": [
       "407"
      ]
     },
     "execution_count": 7,
     "metadata": {},
     "output_type": "execute_result"
    }
   ],
   "source": [
    "# 관광지 리스트 불러오기\n",
    "tourList = pd.read_csv('충북.csv', encoding='EUC-KR')\n",
    "# 주소를 \" \"(띄워쓰기) 기준으로 나눠서 리스트에서 시,군에 해당하는 1번 가져와 'addr2'컬럼으로 데이터프레임에 추가\n",
    "tourList['addr2'] = tourList['addr1'].str.split(\" \", expand=True)[1]\n",
    "# 'addr2'컬럼의 value값 종류 확인하기(시,군 종류)\n",
    "addr2List = tourList['addr2'].value_counts().index\n",
    "tourList['addr2'].value_counts()        \n",
    "len(tourList)"
   ]
  },
  {
   "cell_type": "code",
   "execution_count": 22,
   "id": "46bb7908",
   "metadata": {},
   "outputs": [
    {
     "data": {
      "text/html": [
       "<div>\n",
       "<style scoped>\n",
       "    .dataframe tbody tr th:only-of-type {\n",
       "        vertical-align: middle;\n",
       "    }\n",
       "\n",
       "    .dataframe tbody tr th {\n",
       "        vertical-align: top;\n",
       "    }\n",
       "\n",
       "    .dataframe thead th {\n",
       "        text-align: right;\n",
       "    }\n",
       "</style>\n",
       "<table border=\"1\" class=\"dataframe\">\n",
       "  <thead>\n",
       "    <tr style=\"text-align: right;\">\n",
       "      <th></th>\n",
       "      <th>Unnamed: 0</th>\n",
       "      <th>title</th>\n",
       "      <th>addr1</th>\n",
       "      <th>mapx</th>\n",
       "      <th>mapy</th>\n",
       "      <th>firstimage</th>\n",
       "      <th>overview</th>\n",
       "      <th>addr2</th>\n",
       "    </tr>\n",
       "  </thead>\n",
       "  <tbody>\n",
       "    <tr>\n",
       "      <th>351</th>\n",
       "      <td>351</td>\n",
       "      <td>청주 용두사지 철당간</td>\n",
       "      <td>청주시 상당구 남문로 2가 48-19</td>\n",
       "      <td>127.489648</td>\n",
       "      <td>36.633093</td>\n",
       "      <td>http://tong.visitkorea.or.kr/cms/resource/87/5...</td>\n",
       "      <td>1962년 12월 20일 국보로 지정되었다. 화강석(花崗石)으로 만든 지주는 높이 ...</td>\n",
       "      <td>상당구</td>\n",
       "    </tr>\n",
       "  </tbody>\n",
       "</table>\n",
       "</div>"
      ],
      "text/plain": [
       "     Unnamed: 0        title                 addr1        mapx       mapy  \\\n",
       "351         351  청주 용두사지 철당간  청주시 상당구 남문로 2가 48-19  127.489648  36.633093   \n",
       "\n",
       "                                            firstimage  \\\n",
       "351  http://tong.visitkorea.or.kr/cms/resource/87/5...   \n",
       "\n",
       "                                              overview addr2  \n",
       "351  1962년 12월 20일 국보로 지정되었다. 화강석(花崗石)으로 만든 지주는 높이 ...   상당구  "
      ]
     },
     "execution_count": 22,
     "metadata": {},
     "output_type": "execute_result"
    }
   ],
   "source": [
    "tourList[tourList['addr2'].str.startswith(\"대덕구\")]  #  대전\n",
    "tourList[tourList['addr2'].str.startswith(\"제천시봉양읍\")]  # 제천시\n",
    "tourList[tourList['addr2'].str.startswith(\"상당구\")]  # 청주시\n"
   ]
  },
  {
   "cell_type": "code",
   "execution_count": 23,
   "id": "9ee1a854",
   "metadata": {},
   "outputs": [],
   "source": [
    "tourList=tourList.replace({'addr2':'제천시봉양읍'},'제천시')\n",
    "tourList=tourList.replace({'addr2':'상당구'},'청주시')"
   ]
  },
  {
   "cell_type": "code",
   "execution_count": 24,
   "id": "b11e2dc4",
   "metadata": {},
   "outputs": [],
   "source": [
    "# 대전광역시 데이터라서 삭제\n",
    "tourList = tourList.drop(tourList[tourList['addr2'] == '대덕구'].index)"
   ]
  },
  {
   "cell_type": "code",
   "execution_count": 25,
   "id": "6dc8d50a",
   "metadata": {},
   "outputs": [
    {
     "data": {
      "text/plain": [
       "괴산군    54\n",
       "청주시    52\n",
       "단양군    52\n",
       "제천시    49\n",
       "충주시    39\n",
       "영동군    36\n",
       "음성군    28\n",
       "진천군    28\n",
       "옥천군    27\n",
       "보은군    25\n",
       "증평군    16\n",
       "Name: addr2, dtype: int64"
      ]
     },
     "execution_count": 25,
     "metadata": {},
     "output_type": "execute_result"
    }
   ],
   "source": [
    "addr2List = tourList['addr2'].value_counts().index\n",
    "tourList['addr2'].value_counts()  "
   ]
  },
  {
   "cell_type": "code",
   "execution_count": 26,
   "id": "fa99412d",
   "metadata": {},
   "outputs": [],
   "source": [
    "tourListN = []\n",
    "for i in range(len(addr2List)):\n",
    "    tourListN.append(tourList[tourList['addr2'].str.startswith(addr2List[i])])\n",
    "    tourListN[i] = tourListN[i].drop([\"Unnamed: 0\"],axis=1)\n",
    "    tourListN[i] = tourListN[i].reset_index(drop=True)\n",
    "    tourListN[i].to_csv(f'충북{addr2List[i]}.csv',encoding='utf-8')  "
   ]
  },
  {
   "cell_type": "markdown",
   "id": "15ebcbb9",
   "metadata": {},
   "source": [
    "## 충남"
   ]
  },
  {
   "cell_type": "code",
   "execution_count": 8,
   "id": "5a7a7557",
   "metadata": {},
   "outputs": [
    {
     "data": {
      "text/plain": [
       "584"
      ]
     },
     "execution_count": 8,
     "metadata": {},
     "output_type": "execute_result"
    }
   ],
   "source": [
    "# 관광지 리스트 불러오기\n",
    "tourList = pd.read_csv('충남.csv', encoding='EUC-KR')\n",
    "# 주소를 \" \"(띄워쓰기) 기준으로 나눠서 리스트에서 시,군에 해당하는 1번 가져와 'addr2'컬럼으로 데이터프레임에 추가\n",
    "tourList['addr2'] = tourList['addr1'].str.split(\" \", expand=True)[1]\n",
    "# 'addr2'컬럼의 value값 종류 확인하기(시,군 종류)\n",
    "addr2List = tourList['addr2'].value_counts().index\n",
    "tourList['addr2'].value_counts()        \n",
    "len(tourList)"
   ]
  },
  {
   "cell_type": "code",
   "execution_count": 28,
   "id": "83ced743",
   "metadata": {},
   "outputs": [],
   "source": [
    "tourListN = []\n",
    "for i in range(len(addr2List)):\n",
    "    tourListN.append(tourList[tourList['addr2'].str.startswith(addr2List[i])])\n",
    "    tourListN[i] = tourListN[i].drop([\"Unnamed: 0\"],axis=1)\n",
    "    tourListN[i] = tourListN[i].reset_index(drop=True)\n",
    "    tourListN[i].to_csv(f'충남{addr2List[i]}.csv',encoding='utf-8')  "
   ]
  },
  {
   "cell_type": "markdown",
   "id": "ae5792f4",
   "metadata": {},
   "source": [
    "## 전북"
   ]
  },
  {
   "cell_type": "code",
   "execution_count": 9,
   "id": "52984182",
   "metadata": {},
   "outputs": [
    {
     "data": {
      "text/plain": [
       "495"
      ]
     },
     "execution_count": 9,
     "metadata": {},
     "output_type": "execute_result"
    }
   ],
   "source": [
    "# 관광지 리스트 불러오기\n",
    "tourList = pd.read_csv('전북.csv', encoding='EUC-KR')\n",
    "# 주소를 \" \"(띄워쓰기) 기준으로 나눠서 리스트에서 시,군에 해당하는 1번 가져와 'addr2'컬럼으로 데이터프레임에 추가\n",
    "tourList['addr2'] = tourList['addr1'].str.split(\" \", expand=True)[1]\n",
    "# 'addr2'컬럼의 value값 종류 확인하기(시,군 종류)\n",
    "addr2List = tourList['addr2'].value_counts().index\n",
    "tourList['addr2'].value_counts()        \n",
    "len(tourList)"
   ]
  },
  {
   "cell_type": "code",
   "execution_count": 30,
   "id": "1ba8390e",
   "metadata": {},
   "outputs": [],
   "source": [
    "tourListN = []\n",
    "for i in range(len(addr2List)):\n",
    "    tourListN.append(tourList[tourList['addr2'].str.startswith(addr2List[i])])\n",
    "    tourListN[i] = tourListN[i].drop([\"Unnamed: 0\"],axis=1)\n",
    "    tourListN[i] = tourListN[i].reset_index(drop=True)\n",
    "    tourListN[i].to_csv(f'전북{addr2List[i]}.csv',encoding='utf-8')  "
   ]
  },
  {
   "cell_type": "markdown",
   "id": "89d39a32",
   "metadata": {},
   "source": [
    "## 전남"
   ]
  },
  {
   "cell_type": "code",
   "execution_count": 10,
   "id": "f382bd1a",
   "metadata": {},
   "outputs": [
    {
     "data": {
      "text/plain": [
       "771"
      ]
     },
     "execution_count": 10,
     "metadata": {},
     "output_type": "execute_result"
    }
   ],
   "source": [
    "# 관광지 리스트 불러오기\n",
    "tourList = pd.read_csv('전남.csv', encoding='EUC-KR')\n",
    "# 주소를 \" \"(띄워쓰기) 기준으로 나눠서 리스트에서 시,군에 해당하는 1번 가져와 'addr2'컬럼으로 데이터프레임에 추가\n",
    "tourList['addr2'] = tourList['addr1'].str.split(\" \", expand=True)[1]\n",
    "# 'addr2'컬럼의 value값 종류 확인하기(시,군 종류)\n",
    "addr2List = tourList['addr2'].value_counts().index\n",
    "tourList['addr2'].value_counts()        \n",
    "len(tourList)"
   ]
  },
  {
   "cell_type": "code",
   "execution_count": 32,
   "id": "714a6961",
   "metadata": {},
   "outputs": [],
   "source": [
    "tourListN = []\n",
    "for i in range(len(addr2List)):\n",
    "    tourListN.append(tourList[tourList['addr2'].str.startswith(addr2List[i])])\n",
    "    tourListN[i] = tourListN[i].drop([\"Unnamed: 0\"],axis=1)\n",
    "    tourListN[i] = tourListN[i].reset_index(drop=True)\n",
    "    tourListN[i].to_csv(f'전남{addr2List[i]}.csv',encoding='utf-8')  "
   ]
  }
 ],
 "metadata": {
  "kernelspec": {
   "display_name": "Python 3 (ipykernel)",
   "language": "python",
   "name": "python3"
  },
  "language_info": {
   "codemirror_mode": {
    "name": "ipython",
    "version": 3
   },
   "file_extension": ".py",
   "mimetype": "text/x-python",
   "name": "python",
   "nbconvert_exporter": "python",
   "pygments_lexer": "ipython3",
   "version": "3.10.9"
  }
 },
 "nbformat": 4,
 "nbformat_minor": 5
}
